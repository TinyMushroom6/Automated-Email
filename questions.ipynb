{
 "cells": [
  {
   "attachments": {},
   "cell_type": "markdown",
   "metadata": {},
   "source": [
    "# QUESTION 3"
   ]
  },
  {
   "attachments": {},
   "cell_type": "markdown",
   "metadata": {},
   "source": [
    "We want to automate the sending of an email to a user with Python. We will obtain their name and email address from an on screen keyboard entry, then we will form an email with a predetermined message, inserting their name into this for personalisation, and attaching an image to the email. The subject line will also be predetermined and filled in. The email will then be sent to the user using a Gmail account. \n",
    "\n",
    "Describe how you would approach this? \n",
    "\n",
    "What Libraries might you use? \n",
    "\n",
    "How long would you allow to develop a working prototype?\n"
   ]
  },
  {
   "cell_type": "code",
   "execution_count": null,
   "metadata": {},
   "outputs": [],
   "source": [
    "import smtplib\n",
    "from email.mime.multipart import MIMEMultipart\n",
    "from email.mime.text import MIMEText\n",
    "from email.mime.image import MIMEImage\n",
    "import tkinter as tk\n",
    "\n",
    "def send_email(sender_email, sender_password, recipient_email, name):\n",
    "    message = MIMEMultipart()\n",
    "    message['From'] = sender_email\n",
    "    message['To'] = recipient_email\n",
    "    message['Subject'] = \"Automated Email\"\n",
    "\n",
    "    body = f\"Hello {name},\\n\\nThis is an automated email .\\n\\nGoodBye,\\nRami\"\n",
    "    message.attach(MIMEText(body, 'plain'))\n",
    "\n",
    "    with open('image.png', 'rb') as img_file:\n",
    "        image = MIMEImage(img_file.read())\n",
    "    message.attach(image)\n",
    "\n",
    "    try:\n",
    "        server = smtplib.SMTP('smtp.gmail.com', 587)    # Set up a server on port 587 \n",
    "        server.starttls()\n",
    "        server.login(sender_email, sender_password)\n",
    "        server.sendmail(sender_email, recipient_email, message.as_string())\n",
    "        print(\"Email sent successfully!\")\n",
    "    except Exception as e:\n",
    "        print(\"An error occurred while sending the email:\", str(e))\n",
    "    finally:\n",
    "        server.quit()\n",
    "\n",
    "def send_email():\n",
    "    sender_email = '' # Email removed for privacy reaseons\n",
    "    sender_password = '' # App Password removed for privacy reaseons\n",
    "    recipient_email = recipient_entry.get()\n",
    "    name = name_entry.get()\n",
    "\n",
    "    send_email(sender_email, sender_password, recipient_email, name)\n",
    "\n",
    "root = tk.Tk()\n",
    "root.title(\"Email Sender\")\n",
    "\n",
    "name_label = tk.Label(root, text=\"Name:\")\n",
    "name_label.pack()\n",
    "name_entry = tk.Entry(root)\n",
    "name_entry.pack()\n",
    "\n",
    "recipient_label = tk.Label(root, text=\"Recipient Email:\")\n",
    "recipient_label.pack()\n",
    "recipient_entry = tk.Entry(root)\n",
    "recipient_entry.pack()\n",
    "\n",
    "send_button = tk.Button(root, text=\"Send Email\", command=send_email)\n",
    "send_button.pack()\n",
    "\n",
    "root.mainloop()"
   ]
  }
 ],
 "metadata": {
  "kernelspec": {
   "display_name": "base",
   "language": "python",
   "name": "python3"
  },
  "language_info": {
   "codemirror_mode": {
    "name": "ipython",
    "version": 3
   },
   "file_extension": ".py",
   "mimetype": "text/x-python",
   "name": "python",
   "nbconvert_exporter": "python",
   "pygments_lexer": "ipython3",
   "version": "3.8.8"
  },
  "orig_nbformat": 4
 },
 "nbformat": 4,
 "nbformat_minor": 2
}
